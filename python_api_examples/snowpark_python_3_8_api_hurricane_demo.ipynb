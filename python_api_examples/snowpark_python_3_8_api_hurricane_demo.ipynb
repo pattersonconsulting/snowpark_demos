{
  "nbformat": 4,
  "nbformat_minor": 0,
  "metadata": {
    "colab": {
      "name": "snowpark_python_3_8_api_hurricane_demo.ipynb",
      "provenance": [],
      "collapsed_sections": []
    },
    "kernelspec": {
      "name": "py38",
      "display_name": "Python 3.8"
    },
    "language_info": {
      "name": "python"
    }
  },
  "cells": [
    {
      "cell_type": "code",
      "execution_count": null,
      "metadata": {
        "id": "TgvS-cFlKyQn",
        "colab": {
          "base_uri": "https://localhost:8080/"
        },
        "outputId": "2ddf184e-864a-4393-aa01-a10ca9d235ae"
      },
      "outputs": [
        {
          "output_type": "stream",
          "name": "stdout",
          "text": [
            "--2022-06-12 02:44:39--  https://repo.anaconda.com/miniconda/Miniconda3-py38_4.8.2-Linux-x86_64.sh\n",
            "Resolving repo.anaconda.com (repo.anaconda.com)... 104.16.131.3, 104.16.130.3, 2606:4700::6810:8303, ...\n",
            "Connecting to repo.anaconda.com (repo.anaconda.com)|104.16.131.3|:443... connected.\n",
            "HTTP request sent, awaiting response... 200 OK\n",
            "Length: 89817099 (86M) [application/x-sh]\n",
            "Saving to: ‘mini.sh’\n",
            "\n",
            "mini.sh             100%[===================>]  85.66M  46.8MB/s    in 1.8s    \n",
            "\n",
            "2022-06-12 02:44:41 (46.8 MB/s) - ‘mini.sh’ saved [89817099/89817099]\n",
            "\n",
            "PREFIX=/usr/local\n",
            "Unpacking payload ...\n",
            "Collecting package metadata (current_repodata.json): - \b\b\\ \b\bdone\n",
            "Solving environment: / \b\b- \b\bdone\n",
            "\n",
            "## Package Plan ##\n",
            "\n",
            "  environment location: /usr/local\n",
            "\n",
            "  added / updated specs:\n",
            "    - _libgcc_mutex==0.1=main\n",
            "    - asn1crypto==1.3.0=py38_0\n",
            "    - ca-certificates==2020.1.1=0\n",
            "    - certifi==2019.11.28=py38_0\n",
            "    - cffi==1.14.0=py38h2e261b9_0\n",
            "    - chardet==3.0.4=py38_1003\n",
            "    - conda-package-handling==1.6.0=py38h7b6447c_0\n",
            "    - conda==4.8.2=py38_0\n",
            "    - cryptography==2.8=py38h1ba5d50_0\n",
            "    - idna==2.8=py38_1000\n",
            "    - ld_impl_linux-64==2.33.1=h53a641e_7\n",
            "    - libedit==3.1.20181209=hc058e9b_0\n",
            "    - libffi==3.2.1=hd88cf55_4\n",
            "    - libgcc-ng==9.1.0=hdf63c60_0\n",
            "    - libstdcxx-ng==9.1.0=hdf63c60_0\n",
            "    - ncurses==6.2=he6710b0_0\n",
            "    - openssl==1.1.1d=h7b6447c_4\n",
            "    - pip==20.0.2=py38_1\n",
            "    - pycosat==0.6.3=py38h7b6447c_0\n",
            "    - pycparser==2.19=py_0\n",
            "    - pyopenssl==19.1.0=py38_0\n",
            "    - pysocks==1.7.1=py38_0\n",
            "    - python==3.8.1=h0371630_1\n",
            "    - readline==7.0=h7b6447c_5\n",
            "    - requests==2.22.0=py38_1\n",
            "    - ruamel_yaml==0.15.87=py38h7b6447c_0\n",
            "    - setuptools==45.2.0=py38_0\n",
            "    - six==1.14.0=py38_0\n",
            "    - sqlite==3.31.1=h7b6447c_0\n",
            "    - tk==8.6.8=hbc83047_0\n",
            "    - tqdm==4.42.1=py_0\n",
            "    - urllib3==1.25.8=py38_0\n",
            "    - wheel==0.34.2=py38_0\n",
            "    - xz==5.2.4=h14c3975_4\n",
            "    - yaml==0.1.7=had09818_2\n",
            "    - zlib==1.2.11=h7b6447c_3\n",
            "\n",
            "\n",
            "The following NEW packages will be INSTALLED:\n",
            "\n",
            "  _libgcc_mutex      pkgs/main/linux-64::_libgcc_mutex-0.1-main\n",
            "  asn1crypto         pkgs/main/linux-64::asn1crypto-1.3.0-py38_0\n",
            "  ca-certificates    pkgs/main/linux-64::ca-certificates-2020.1.1-0\n",
            "  certifi            pkgs/main/linux-64::certifi-2019.11.28-py38_0\n",
            "  cffi               pkgs/main/linux-64::cffi-1.14.0-py38h2e261b9_0\n",
            "  chardet            pkgs/main/linux-64::chardet-3.0.4-py38_1003\n",
            "  conda              pkgs/main/linux-64::conda-4.8.2-py38_0\n",
            "  conda-package-han~ pkgs/main/linux-64::conda-package-handling-1.6.0-py38h7b6447c_0\n",
            "  cryptography       pkgs/main/linux-64::cryptography-2.8-py38h1ba5d50_0\n",
            "  idna               pkgs/main/linux-64::idna-2.8-py38_1000\n",
            "  ld_impl_linux-64   pkgs/main/linux-64::ld_impl_linux-64-2.33.1-h53a641e_7\n",
            "  libedit            pkgs/main/linux-64::libedit-3.1.20181209-hc058e9b_0\n",
            "  libffi             pkgs/main/linux-64::libffi-3.2.1-hd88cf55_4\n",
            "  libgcc-ng          pkgs/main/linux-64::libgcc-ng-9.1.0-hdf63c60_0\n",
            "  libstdcxx-ng       pkgs/main/linux-64::libstdcxx-ng-9.1.0-hdf63c60_0\n",
            "  ncurses            pkgs/main/linux-64::ncurses-6.2-he6710b0_0\n",
            "  openssl            pkgs/main/linux-64::openssl-1.1.1d-h7b6447c_4\n",
            "  pip                pkgs/main/linux-64::pip-20.0.2-py38_1\n",
            "  pycosat            pkgs/main/linux-64::pycosat-0.6.3-py38h7b6447c_0\n",
            "  pycparser          pkgs/main/noarch::pycparser-2.19-py_0\n",
            "  pyopenssl          pkgs/main/linux-64::pyopenssl-19.1.0-py38_0\n",
            "  pysocks            pkgs/main/linux-64::pysocks-1.7.1-py38_0\n",
            "  python             pkgs/main/linux-64::python-3.8.1-h0371630_1\n",
            "  readline           pkgs/main/linux-64::readline-7.0-h7b6447c_5\n",
            "  requests           pkgs/main/linux-64::requests-2.22.0-py38_1\n",
            "  ruamel_yaml        pkgs/main/linux-64::ruamel_yaml-0.15.87-py38h7b6447c_0\n",
            "  setuptools         pkgs/main/linux-64::setuptools-45.2.0-py38_0\n",
            "  six                pkgs/main/linux-64::six-1.14.0-py38_0\n",
            "  sqlite             pkgs/main/linux-64::sqlite-3.31.1-h7b6447c_0\n",
            "  tk                 pkgs/main/linux-64::tk-8.6.8-hbc83047_0\n",
            "  tqdm               pkgs/main/noarch::tqdm-4.42.1-py_0\n",
            "  urllib3            pkgs/main/linux-64::urllib3-1.25.8-py38_0\n",
            "  wheel              pkgs/main/linux-64::wheel-0.34.2-py38_0\n",
            "  xz                 pkgs/main/linux-64::xz-5.2.4-h14c3975_4\n",
            "  yaml               pkgs/main/linux-64::yaml-0.1.7-had09818_2\n",
            "  zlib               pkgs/main/linux-64::zlib-1.2.11-h7b6447c_3\n",
            "\n",
            "\n",
            "Preparing transaction: | \b\b/ \b\b- \b\b\\ \b\bdone\n",
            "Executing transaction: / \b\b- \b\b\\ \b\b| \b\b/ \b\b- \b\b\\ \b\b| \b\b/ \b\b- \b\b\\ \b\b| \b\b/ \b\b- \b\b\\ \b\b| \b\b/ \b\bdone\n",
            "installation finished.\n",
            "WARNING:\n",
            "    You currently have a PYTHONPATH environment variable set. This may cause\n",
            "    unexpected behavior when running the Python interpreter in Miniconda3.\n",
            "    For best results, please verify that your PYTHONPATH only points to\n",
            "    directories of packages that are compatible with the Python interpreter\n",
            "    in Miniconda3: /usr/local\n",
            "Collecting package metadata (current_repodata.json): ...working... done\n",
            "Solving environment: ...working... done\n",
            "\n",
            "## Package Plan ##\n",
            "\n",
            "  environment location: /usr/local\n",
            "\n",
            "  added / updated specs:\n",
            "    - jupyter\n",
            "\n",
            "\n",
            "The following packages will be downloaded:\n",
            "\n",
            "    package                    |            build\n",
            "    ---------------------------|-----------------\n",
            "    argon2-cffi-21.3.0         |     pyhd3eb1b0_0          15 KB\n",
            "    argon2-cffi-bindings-21.2.0|   py38h7f8727e_0          33 KB\n",
            "    asttokens-2.0.5            |     pyhd3eb1b0_0          20 KB\n",
            "    attrs-21.4.0               |     pyhd3eb1b0_0          51 KB\n",
            "    backcall-0.2.0             |     pyhd3eb1b0_0          13 KB\n",
            "    beautifulsoup4-4.11.1      |   py38h06a4308_0         185 KB\n",
            "    bleach-4.1.0               |     pyhd3eb1b0_0         123 KB\n",
            "    ca-certificates-2022.4.26  |       h06a4308_0         124 KB\n",
            "    certifi-2022.5.18.1        |   py38h06a4308_0         147 KB\n",
            "    conda-4.13.0               |   py38h06a4308_0         896 KB\n",
            "    dbus-1.13.18               |       hb2f20db_0         504 KB\n",
            "    debugpy-1.5.1              |   py38h295c915_0         1.7 MB\n",
            "    decorator-5.1.1            |     pyhd3eb1b0_0          12 KB\n",
            "    defusedxml-0.7.1           |     pyhd3eb1b0_0          23 KB\n",
            "    entrypoints-0.4            |   py38h06a4308_0          16 KB\n",
            "    executing-0.8.3            |     pyhd3eb1b0_0          18 KB\n",
            "    expat-2.4.4                |       h295c915_0         169 KB\n",
            "    fontconfig-2.13.1          |       h6c09931_0         250 KB\n",
            "    freetype-2.11.0            |       h70c0345_0         618 KB\n",
            "    glib-2.69.1                |       h4ff587b_1         1.7 MB\n",
            "    gst-plugins-base-1.14.0    |       h8213a91_2         4.9 MB\n",
            "    gstreamer-1.14.0           |       h28cd5cc_2         3.2 MB\n",
            "    icu-58.2                   |       he6710b0_3        10.5 MB\n",
            "    importlib_resources-5.2.0  |     pyhd3eb1b0_1          21 KB\n",
            "    ipykernel-6.9.1            |   py38h06a4308_0         199 KB\n",
            "    ipython-8.3.0              |   py38h06a4308_0         963 KB\n",
            "    ipython_genutils-0.2.0     |     pyhd3eb1b0_1          27 KB\n",
            "    ipywidgets-7.6.5           |     pyhd3eb1b0_1         105 KB\n",
            "    jedi-0.18.1                |   py38h06a4308_1         982 KB\n",
            "    jinja2-3.0.3               |     pyhd3eb1b0_0         106 KB\n",
            "    jpeg-9e                    |       h7f8727e_0         240 KB\n",
            "    jsonschema-4.4.0           |   py38h06a4308_0         121 KB\n",
            "    jupyter-1.0.0              |           py38_7           7 KB\n",
            "    jupyter_client-7.2.2       |   py38h06a4308_0         191 KB\n",
            "    jupyter_console-6.4.3      |     pyhd3eb1b0_0          23 KB\n",
            "    jupyter_core-4.10.0        |   py38h06a4308_0          76 KB\n",
            "    jupyterlab_pygments-0.1.2  |             py_0           8 KB\n",
            "    jupyterlab_widgets-1.0.0   |     pyhd3eb1b0_1         109 KB\n",
            "    libffi-3.3                 |       he6710b0_2          50 KB\n",
            "    libpng-1.6.37              |       hbc83047_0         278 KB\n",
            "    libsodium-1.0.18           |       h7b6447c_0         244 KB\n",
            "    libuuid-1.0.3              |       h7f8727e_2          17 KB\n",
            "    libxcb-1.15                |       h7f8727e_0         505 KB\n",
            "    libxml2-2.9.14             |       h74e7548_0         718 KB\n",
            "    markupsafe-2.1.1           |   py38h7f8727e_0          21 KB\n",
            "    matplotlib-inline-0.1.2    |     pyhd3eb1b0_2          12 KB\n",
            "    mistune-0.8.4              |py38h7b6447c_1000          55 KB\n",
            "    nbclient-0.5.13            |   py38h06a4308_0          91 KB\n",
            "    nbconvert-6.4.4            |   py38h06a4308_0         494 KB\n",
            "    nbformat-5.3.0             |   py38h06a4308_0         129 KB\n",
            "    nest-asyncio-1.5.5         |   py38h06a4308_0          16 KB\n",
            "    notebook-6.4.11            |   py38h06a4308_0         4.2 MB\n",
            "    openssl-1.1.1o             |       h7f8727e_0         2.5 MB\n",
            "    packaging-21.3             |     pyhd3eb1b0_0          36 KB\n",
            "    pandocfilters-1.5.0        |     pyhd3eb1b0_0          11 KB\n",
            "    parso-0.8.3                |     pyhd3eb1b0_0          70 KB\n",
            "    pcre-8.45                  |       h295c915_0         207 KB\n",
            "    pexpect-4.8.0              |     pyhd3eb1b0_3          53 KB\n",
            "    pickleshare-0.7.5          |  pyhd3eb1b0_1003          13 KB\n",
            "    prometheus_client-0.13.1   |     pyhd3eb1b0_0          47 KB\n",
            "    prompt-toolkit-3.0.20      |     pyhd3eb1b0_0         259 KB\n",
            "    prompt_toolkit-3.0.20      |       hd3eb1b0_0          12 KB\n",
            "    ptyprocess-0.7.0           |     pyhd3eb1b0_2          17 KB\n",
            "    pure_eval-0.2.2            |     pyhd3eb1b0_0          14 KB\n",
            "    pygments-2.11.2            |     pyhd3eb1b0_0         759 KB\n",
            "    pyparsing-3.0.4            |     pyhd3eb1b0_0          81 KB\n",
            "    pyqt-5.9.2                 |   py38h05f1152_4         4.5 MB\n",
            "    pyrsistent-0.18.0          |   py38heee7806_0          94 KB\n",
            "    python-dateutil-2.8.2      |     pyhd3eb1b0_0         233 KB\n",
            "    python-fastjsonschema-2.15.1|     pyhd3eb1b0_0          29 KB\n",
            "    pyzmq-22.3.0               |   py38h295c915_2         476 KB\n",
            "    qt-5.9.7                   |       h5867ecd_1        68.5 MB\n",
            "    qtconsole-5.3.0            |     pyhd3eb1b0_0          93 KB\n",
            "    qtpy-2.0.1                 |     pyhd3eb1b0_0          40 KB\n",
            "    send2trash-1.8.0           |     pyhd3eb1b0_1          19 KB\n",
            "    sip-4.19.13                |   py38h295c915_0         279 KB\n",
            "    soupsieve-2.3.1            |     pyhd3eb1b0_0          34 KB\n",
            "    stack_data-0.2.0           |     pyhd3eb1b0_0          22 KB\n",
            "    terminado-0.13.1           |   py38h06a4308_0          30 KB\n",
            "    testpath-0.5.0             |     pyhd3eb1b0_0          81 KB\n",
            "    tornado-6.1                |   py38h27cfd23_0         588 KB\n",
            "    traitlets-5.1.1            |     pyhd3eb1b0_0          84 KB\n",
            "    typing-extensions-4.1.1    |       hd3eb1b0_0           8 KB\n",
            "    typing_extensions-4.1.1    |     pyh06a4308_0          28 KB\n",
            "    wcwidth-0.2.5              |     pyhd3eb1b0_0          26 KB\n",
            "    webencodings-0.5.1         |           py38_1          20 KB\n",
            "    widgetsnbextension-3.5.2   |   py38h06a4308_0         651 KB\n",
            "    xz-5.2.5                   |       h7f8727e_1         339 KB\n",
            "    zeromq-4.3.4               |       h2531618_0         331 KB\n",
            "    zipp-3.8.0                 |   py38h06a4308_0          15 KB\n",
            "    zlib-1.2.12                |       h7f8727e_2         106 KB\n",
            "    ------------------------------------------------------------\n",
            "                                           Total:       115.7 MB\n",
            "\n",
            "The following NEW packages will be INSTALLED:\n",
            "\n",
            "  argon2-cffi        pkgs/main/noarch::argon2-cffi-21.3.0-pyhd3eb1b0_0\n",
            "  argon2-cffi-bindi~ pkgs/main/linux-64::argon2-cffi-bindings-21.2.0-py38h7f8727e_0\n",
            "  asttokens          pkgs/main/noarch::asttokens-2.0.5-pyhd3eb1b0_0\n",
            "  attrs              pkgs/main/noarch::attrs-21.4.0-pyhd3eb1b0_0\n",
            "  backcall           pkgs/main/noarch::backcall-0.2.0-pyhd3eb1b0_0\n",
            "  beautifulsoup4     pkgs/main/linux-64::beautifulsoup4-4.11.1-py38h06a4308_0\n",
            "  bleach             pkgs/main/noarch::bleach-4.1.0-pyhd3eb1b0_0\n",
            "  dbus               pkgs/main/linux-64::dbus-1.13.18-hb2f20db_0\n",
            "  debugpy            pkgs/main/linux-64::debugpy-1.5.1-py38h295c915_0\n",
            "  decorator          pkgs/main/noarch::decorator-5.1.1-pyhd3eb1b0_0\n",
            "  defusedxml         pkgs/main/noarch::defusedxml-0.7.1-pyhd3eb1b0_0\n",
            "  entrypoints        pkgs/main/linux-64::entrypoints-0.4-py38h06a4308_0\n",
            "  executing          pkgs/main/noarch::executing-0.8.3-pyhd3eb1b0_0\n",
            "  expat              pkgs/main/linux-64::expat-2.4.4-h295c915_0\n",
            "  fontconfig         pkgs/main/linux-64::fontconfig-2.13.1-h6c09931_0\n",
            "  freetype           pkgs/main/linux-64::freetype-2.11.0-h70c0345_0\n",
            "  glib               pkgs/main/linux-64::glib-2.69.1-h4ff587b_1\n",
            "  gst-plugins-base   pkgs/main/linux-64::gst-plugins-base-1.14.0-h8213a91_2\n",
            "  gstreamer          pkgs/main/linux-64::gstreamer-1.14.0-h28cd5cc_2\n",
            "  icu                pkgs/main/linux-64::icu-58.2-he6710b0_3\n",
            "  importlib_resourc~ pkgs/main/noarch::importlib_resources-5.2.0-pyhd3eb1b0_1\n",
            "  ipykernel          pkgs/main/linux-64::ipykernel-6.9.1-py38h06a4308_0\n",
            "  ipython            pkgs/main/linux-64::ipython-8.3.0-py38h06a4308_0\n",
            "  ipython_genutils   pkgs/main/noarch::ipython_genutils-0.2.0-pyhd3eb1b0_1\n",
            "  ipywidgets         pkgs/main/noarch::ipywidgets-7.6.5-pyhd3eb1b0_1\n",
            "  jedi               pkgs/main/linux-64::jedi-0.18.1-py38h06a4308_1\n",
            "  jinja2             pkgs/main/noarch::jinja2-3.0.3-pyhd3eb1b0_0\n",
            "  jpeg               pkgs/main/linux-64::jpeg-9e-h7f8727e_0\n",
            "  jsonschema         pkgs/main/linux-64::jsonschema-4.4.0-py38h06a4308_0\n",
            "  jupyter            pkgs/main/linux-64::jupyter-1.0.0-py38_7\n",
            "  jupyter_client     pkgs/main/linux-64::jupyter_client-7.2.2-py38h06a4308_0\n",
            "  jupyter_console    pkgs/main/noarch::jupyter_console-6.4.3-pyhd3eb1b0_0\n",
            "  jupyter_core       pkgs/main/linux-64::jupyter_core-4.10.0-py38h06a4308_0\n",
            "  jupyterlab_pygmen~ pkgs/main/noarch::jupyterlab_pygments-0.1.2-py_0\n",
            "  jupyterlab_widgets pkgs/main/noarch::jupyterlab_widgets-1.0.0-pyhd3eb1b0_1\n",
            "  libpng             pkgs/main/linux-64::libpng-1.6.37-hbc83047_0\n",
            "  libsodium          pkgs/main/linux-64::libsodium-1.0.18-h7b6447c_0\n",
            "  libuuid            pkgs/main/linux-64::libuuid-1.0.3-h7f8727e_2\n",
            "  libxcb             pkgs/main/linux-64::libxcb-1.15-h7f8727e_0\n",
            "  libxml2            pkgs/main/linux-64::libxml2-2.9.14-h74e7548_0\n",
            "  markupsafe         pkgs/main/linux-64::markupsafe-2.1.1-py38h7f8727e_0\n",
            "  matplotlib-inline  pkgs/main/noarch::matplotlib-inline-0.1.2-pyhd3eb1b0_2\n",
            "  mistune            pkgs/main/linux-64::mistune-0.8.4-py38h7b6447c_1000\n",
            "  nbclient           pkgs/main/linux-64::nbclient-0.5.13-py38h06a4308_0\n",
            "  nbconvert          pkgs/main/linux-64::nbconvert-6.4.4-py38h06a4308_0\n",
            "  nbformat           pkgs/main/linux-64::nbformat-5.3.0-py38h06a4308_0\n",
            "  nest-asyncio       pkgs/main/linux-64::nest-asyncio-1.5.5-py38h06a4308_0\n",
            "  notebook           pkgs/main/linux-64::notebook-6.4.11-py38h06a4308_0\n",
            "  packaging          pkgs/main/noarch::packaging-21.3-pyhd3eb1b0_0\n",
            "  pandocfilters      pkgs/main/noarch::pandocfilters-1.5.0-pyhd3eb1b0_0\n",
            "  parso              pkgs/main/noarch::parso-0.8.3-pyhd3eb1b0_0\n",
            "  pcre               pkgs/main/linux-64::pcre-8.45-h295c915_0\n",
            "  pexpect            pkgs/main/noarch::pexpect-4.8.0-pyhd3eb1b0_3\n",
            "  pickleshare        pkgs/main/noarch::pickleshare-0.7.5-pyhd3eb1b0_1003\n",
            "  prometheus_client  pkgs/main/noarch::prometheus_client-0.13.1-pyhd3eb1b0_0\n",
            "  prompt-toolkit     pkgs/main/noarch::prompt-toolkit-3.0.20-pyhd3eb1b0_0\n",
            "  prompt_toolkit     pkgs/main/noarch::prompt_toolkit-3.0.20-hd3eb1b0_0\n",
            "  ptyprocess         pkgs/main/noarch::ptyprocess-0.7.0-pyhd3eb1b0_2\n",
            "  pure_eval          pkgs/main/noarch::pure_eval-0.2.2-pyhd3eb1b0_0\n",
            "  pygments           pkgs/main/noarch::pygments-2.11.2-pyhd3eb1b0_0\n",
            "  pyparsing          pkgs/main/noarch::pyparsing-3.0.4-pyhd3eb1b0_0\n",
            "  pyqt               pkgs/main/linux-64::pyqt-5.9.2-py38h05f1152_4\n",
            "  pyrsistent         pkgs/main/linux-64::pyrsistent-0.18.0-py38heee7806_0\n",
            "  python-dateutil    pkgs/main/noarch::python-dateutil-2.8.2-pyhd3eb1b0_0\n",
            "  python-fastjsonsc~ pkgs/main/noarch::python-fastjsonschema-2.15.1-pyhd3eb1b0_0\n",
            "  pyzmq              pkgs/main/linux-64::pyzmq-22.3.0-py38h295c915_2\n",
            "  qt                 pkgs/main/linux-64::qt-5.9.7-h5867ecd_1\n",
            "  qtconsole          pkgs/main/noarch::qtconsole-5.3.0-pyhd3eb1b0_0\n",
            "  qtpy               pkgs/main/noarch::qtpy-2.0.1-pyhd3eb1b0_0\n",
            "  send2trash         pkgs/main/noarch::send2trash-1.8.0-pyhd3eb1b0_1\n",
            "  sip                pkgs/main/linux-64::sip-4.19.13-py38h295c915_0\n",
            "  soupsieve          pkgs/main/noarch::soupsieve-2.3.1-pyhd3eb1b0_0\n",
            "  stack_data         pkgs/main/noarch::stack_data-0.2.0-pyhd3eb1b0_0\n",
            "  terminado          pkgs/main/linux-64::terminado-0.13.1-py38h06a4308_0\n",
            "  testpath           pkgs/main/noarch::testpath-0.5.0-pyhd3eb1b0_0\n",
            "  tornado            pkgs/main/linux-64::tornado-6.1-py38h27cfd23_0\n",
            "  traitlets          pkgs/main/noarch::traitlets-5.1.1-pyhd3eb1b0_0\n",
            "  typing-extensions  pkgs/main/noarch::typing-extensions-4.1.1-hd3eb1b0_0\n",
            "  typing_extensions  pkgs/main/noarch::typing_extensions-4.1.1-pyh06a4308_0\n",
            "  wcwidth            pkgs/main/noarch::wcwidth-0.2.5-pyhd3eb1b0_0\n",
            "  webencodings       pkgs/main/linux-64::webencodings-0.5.1-py38_1\n",
            "  widgetsnbextension pkgs/main/linux-64::widgetsnbextension-3.5.2-py38h06a4308_0\n",
            "  zeromq             pkgs/main/linux-64::zeromq-4.3.4-h2531618_0\n",
            "  zipp               pkgs/main/linux-64::zipp-3.8.0-py38h06a4308_0\n",
            "\n",
            "The following packages will be UPDATED:\n",
            "\n",
            "  ca-certificates                                2020.1.1-0 --> 2022.4.26-h06a4308_0\n",
            "  certifi                                 2019.11.28-py38_0 --> 2022.5.18.1-py38h06a4308_0\n",
            "  conda                                        4.8.2-py38_0 --> 4.13.0-py38h06a4308_0\n",
            "  libffi                                   3.2.1-hd88cf55_4 --> 3.3-he6710b0_2\n",
            "  openssl                                 1.1.1d-h7b6447c_4 --> 1.1.1o-h7f8727e_0\n",
            "  xz                                       5.2.4-h14c3975_4 --> 5.2.5-h7f8727e_1\n",
            "  zlib                                    1.2.11-h7b6447c_3 --> 1.2.12-h7f8727e_2\n",
            "\n",
            "\n",
            "Preparing transaction: ...working... done\n",
            "Verifying transaction: ...working... done\n",
            "Executing transaction: ...working... done\n",
            "Collecting package metadata (current_repodata.json): ...working... done\n",
            "Solving environment: ...working... done\n",
            "\n",
            "## Package Plan ##\n",
            "\n",
            "  environment location: /usr/local\n",
            "\n",
            "  added / updated specs:\n",
            "    - google-colab\n",
            "\n",
            "\n",
            "The following packages will be downloaded:\n",
            "\n",
            "    package                    |            build\n",
            "    ---------------------------|-----------------\n",
            "    aiohttp-3.7.4.post0        |   py38h7f8727e_2         553 KB\n",
            "    async-timeout-3.0.1        |          py_1000          11 KB  conda-forge\n",
            "    ca-certificates-2022.5.18.1|       ha878542_0         144 KB  conda-forge\n",
            "    cachetools-5.0.0           |     pyhd8ed1ab_0          12 KB  conda-forge\n",
            "    certifi-2022.5.18.1        |   py38h578d9bd_0         150 KB  conda-forge\n",
            "    conda-4.13.0               |   py38h578d9bd_1         994 KB  conda-forge\n",
            "    cryptography-35.0.0        |   py38ha5dfef3_0         1.5 MB  conda-forge\n",
            "    google-auth-2.7.0          |     pyh6c4a22f_1          87 KB  conda-forge\n",
            "    google-colab-1.0.0         |     pyh44b312d_0          77 KB  conda-forge\n",
            "    libblas-3.9.0              |       8_openblas          11 KB  conda-forge\n",
            "    libcblas-3.9.0             |       8_openblas          11 KB  conda-forge\n",
            "    libgfortran-ng-7.5.0       |      h14aa051_20          23 KB  conda-forge\n",
            "    libgfortran4-7.5.0         |      h14aa051_20         1.2 MB  conda-forge\n",
            "    liblapack-3.9.0            |       8_openblas          11 KB  conda-forge\n",
            "    libopenblas-0.3.12         |pthreads_hb3c22a3_1         8.2 MB  conda-forge\n",
            "    multidict-5.2.0            |   py38h7f8727e_2          64 KB\n",
            "    numpy-1.17.5               |   py38h95a1406_0         5.2 MB  conda-forge\n",
            "    pandas-1.0.5               |   py38hcb8c335_0        10.5 MB  conda-forge\n",
            "    portpicker-1.3.1           |   py38h06a4308_0         260 KB\n",
            "    pyasn1-0.4.8               |             py_0          53 KB  conda-forge\n",
            "    pyasn1-modules-0.2.7       |             py_0          60 KB  conda-forge\n",
            "    pyopenssl-22.0.0           |     pyhd8ed1ab_0          49 KB  conda-forge\n",
            "    python_abi-3.8             |           2_cp38           4 KB  conda-forge\n",
            "    pytz-2022.1                |     pyhd8ed1ab_0         242 KB  conda-forge\n",
            "    pyu2f-0.1.5                |     pyhd8ed1ab_0          31 KB  conda-forge\n",
            "    rsa-4.8                    |     pyhd8ed1ab_0          31 KB  conda-forge\n",
            "    yarl-1.6.3                 |   py38h27cfd23_0         136 KB\n",
            "    ------------------------------------------------------------\n",
            "                                           Total:        29.6 MB\n",
            "\n",
            "The following NEW packages will be INSTALLED:\n",
            "\n",
            "  aiohttp            pkgs/main/linux-64::aiohttp-3.7.4.post0-py38h7f8727e_2\n",
            "  async-timeout      conda-forge/noarch::async-timeout-3.0.1-py_1000\n",
            "  cachetools         conda-forge/noarch::cachetools-5.0.0-pyhd8ed1ab_0\n",
            "  google-auth        conda-forge/noarch::google-auth-2.7.0-pyh6c4a22f_1\n",
            "  google-colab       conda-forge/noarch::google-colab-1.0.0-pyh44b312d_0\n",
            "  libblas            conda-forge/linux-64::libblas-3.9.0-8_openblas\n",
            "  libcblas           conda-forge/linux-64::libcblas-3.9.0-8_openblas\n",
            "  libgfortran-ng     conda-forge/linux-64::libgfortran-ng-7.5.0-h14aa051_20\n",
            "  libgfortran4       conda-forge/linux-64::libgfortran4-7.5.0-h14aa051_20\n",
            "  liblapack          conda-forge/linux-64::liblapack-3.9.0-8_openblas\n",
            "  libopenblas        conda-forge/linux-64::libopenblas-0.3.12-pthreads_hb3c22a3_1\n",
            "  multidict          pkgs/main/linux-64::multidict-5.2.0-py38h7f8727e_2\n",
            "  numpy              conda-forge/linux-64::numpy-1.17.5-py38h95a1406_0\n",
            "  pandas             conda-forge/linux-64::pandas-1.0.5-py38hcb8c335_0\n",
            "  portpicker         pkgs/main/linux-64::portpicker-1.3.1-py38h06a4308_0\n",
            "  pyasn1             conda-forge/noarch::pyasn1-0.4.8-py_0\n",
            "  pyasn1-modules     conda-forge/noarch::pyasn1-modules-0.2.7-py_0\n",
            "  python_abi         conda-forge/linux-64::python_abi-3.8-2_cp38\n",
            "  pytz               conda-forge/noarch::pytz-2022.1-pyhd8ed1ab_0\n",
            "  pyu2f              conda-forge/noarch::pyu2f-0.1.5-pyhd8ed1ab_0\n",
            "  rsa                conda-forge/noarch::rsa-4.8-pyhd8ed1ab_0\n",
            "  yarl               pkgs/main/linux-64::yarl-1.6.3-py38h27cfd23_0\n",
            "\n",
            "The following packages will be UPDATED:\n",
            "\n",
            "  ca-certificates    pkgs/main::ca-certificates-2022.4.26-~ --> conda-forge::ca-certificates-2022.5.18.1-ha878542_0\n",
            "  conda              pkgs/main::conda-4.13.0-py38h06a4308_0 --> conda-forge::conda-4.13.0-py38h578d9bd_1\n",
            "  cryptography       pkgs/main::cryptography-2.8-py38h1ba5~ --> conda-forge::cryptography-35.0.0-py38ha5dfef3_0\n",
            "  pyopenssl          pkgs/main/linux-64::pyopenssl-19.1.0-~ --> conda-forge/noarch::pyopenssl-22.0.0-pyhd8ed1ab_0\n",
            "\n",
            "The following packages will be SUPERSEDED by a higher-priority channel:\n",
            "\n",
            "  certifi            pkgs/main::certifi-2022.5.18.1-py38h0~ --> conda-forge::certifi-2022.5.18.1-py38h578d9bd_0\n",
            "\n",
            "\n",
            "Preparing transaction: ...working... done\n",
            "Verifying transaction: ...working... done\n",
            "Executing transaction: ...working... done\n",
            "Installed kernelspec py38 in /root/.local/share/jupyter/kernels/py38\n"
          ]
        }
      ],
      "source": [
        "!wget -O mini.sh https://repo.anaconda.com/miniconda/Miniconda3-py38_4.8.2-Linux-x86_64.sh\n",
        "!chmod +x mini.sh\n",
        "!bash ./mini.sh -b -f -p /usr/local\n",
        "!conda install -q -y jupyter\n",
        "!conda install -q -y google-colab -c conda-forge\n",
        "!python -m ipykernel install --name \"py38\" --user"
      ]
    },
    {
      "cell_type": "code",
      "source": [
        "!python --version"
      ],
      "metadata": {
        "colab": {
          "base_uri": "https://localhost:8080/"
        },
        "id": "4392hRN6LWUm",
        "outputId": "3299e312-a466-46c8-a974-3e344d0eebcb"
      },
      "execution_count": 1,
      "outputs": [
        {
          "output_type": "stream",
          "name": "stdout",
          "text": [
            "Python 3.8.1\n"
          ]
        }
      ]
    },
    {
      "cell_type": "code",
      "source": [
        "!pip install './snowflake_snowpark_python-0.7.0-py3-none-any.whl[pandas]'\n"
      ],
      "metadata": {
        "colab": {
          "base_uri": "https://localhost:8080/"
        },
        "id": "V8M_za25Ld4K",
        "outputId": "02b23d96-bbb2-41b9-87e0-8f4da24fa65c"
      },
      "execution_count": 2,
      "outputs": [
        {
          "output_type": "stream",
          "name": "stdout",
          "text": [
            "Looking in indexes: https://pypi.org/simple, https://us-python.pkg.dev/colab-wheels/public/simple/\n",
            "Requirement already satisfied: snowflake-snowpark-python==0.7.0 from file:///content/snowflake_snowpark_python-0.7.0-py3-none-any.whl in /usr/local/lib/python3.8/site-packages (0.7.0)\n",
            "Requirement already satisfied: typing-extensions>=4.1.0 in /usr/local/lib/python3.8/site-packages (from snowflake-snowpark-python==0.7.0) (4.1.1)\n",
            "Requirement already satisfied: setuptools>=40.6.0 in /usr/local/lib/python3.8/site-packages (from snowflake-snowpark-python==0.7.0) (45.2.0.post20200210)\n",
            "Requirement already satisfied: snowflake-connector-python>=2.7.4 in /usr/local/lib/python3.8/site-packages (from snowflake-snowpark-python==0.7.0) (2.7.8)\n",
            "Requirement already satisfied: wheel in /usr/local/lib/python3.8/site-packages (from snowflake-snowpark-python==0.7.0) (0.34.2)\n",
            "Requirement already satisfied: cloudpickle<=2.0.0,>=1.6.0 in /usr/local/lib/python3.8/site-packages (from snowflake-snowpark-python==0.7.0) (2.0.0)\n",
            "Requirement already satisfied: cffi<2.0.0,>=1.9 in /usr/local/lib/python3.8/site-packages (from snowflake-connector-python>=2.7.4->snowflake-snowpark-python==0.7.0) (1.14.0)\n",
            "Requirement already satisfied: pytz in /usr/local/lib/python3.8/site-packages (from snowflake-connector-python>=2.7.4->snowflake-snowpark-python==0.7.0) (2022.1)\n",
            "Requirement already satisfied: certifi>=2017.4.17 in /usr/local/lib/python3.8/site-packages (from snowflake-connector-python>=2.7.4->snowflake-snowpark-python==0.7.0) (2022.5.18.1)\n",
            "Requirement already satisfied: idna<4,>=2.5 in /usr/local/lib/python3.8/site-packages (from snowflake-connector-python>=2.7.4->snowflake-snowpark-python==0.7.0) (2.8)\n",
            "Requirement already satisfied: oscrypto<2.0.0 in /usr/local/lib/python3.8/site-packages (from snowflake-connector-python>=2.7.4->snowflake-snowpark-python==0.7.0) (1.3.0)\n",
            "Requirement already satisfied: pycryptodomex!=3.5.0,<4.0.0,>=3.2 in /usr/local/lib/python3.8/site-packages (from snowflake-connector-python>=2.7.4->snowflake-snowpark-python==0.7.0) (3.14.1)\n",
            "Requirement already satisfied: requests<3.0.0 in /usr/local/lib/python3.8/site-packages (from snowflake-connector-python>=2.7.4->snowflake-snowpark-python==0.7.0) (2.22.0)\n",
            "Requirement already satisfied: cryptography<37.0.0,>=3.1.0 in /usr/local/lib/python3.8/site-packages (from snowflake-connector-python>=2.7.4->snowflake-snowpark-python==0.7.0) (35.0.0)\n",
            "Requirement already satisfied: charset-normalizer~=2.0.0 in /usr/local/lib/python3.8/site-packages (from snowflake-connector-python>=2.7.4->snowflake-snowpark-python==0.7.0) (2.0.12)\n",
            "Requirement already satisfied: pyjwt<3.0.0 in /usr/local/lib/python3.8/site-packages (from snowflake-connector-python>=2.7.4->snowflake-snowpark-python==0.7.0) (2.4.0)\n",
            "Requirement already satisfied: asn1crypto<2.0.0,>0.24.0 in /usr/local/lib/python3.8/site-packages (from snowflake-connector-python>=2.7.4->snowflake-snowpark-python==0.7.0) (1.3.0)\n",
            "Requirement already satisfied: pyOpenSSL<23.0.0,>=16.2.0 in /usr/local/lib/python3.8/site-packages (from snowflake-connector-python>=2.7.4->snowflake-snowpark-python==0.7.0) (22.0.0)\n",
            "Requirement already satisfied: pycparser in /usr/local/lib/python3.8/site-packages (from cffi<2.0.0,>=1.9->snowflake-connector-python>=2.7.4->snowflake-snowpark-python==0.7.0) (2.19)\n",
            "Requirement already satisfied: chardet<3.1.0,>=3.0.2 in /usr/local/lib/python3.8/site-packages (from requests<3.0.0->snowflake-connector-python>=2.7.4->snowflake-snowpark-python==0.7.0) (3.0.4)\n",
            "Requirement already satisfied: urllib3!=1.25.0,!=1.25.1,<1.26,>=1.21.1 in /usr/local/lib/python3.8/site-packages (from requests<3.0.0->snowflake-connector-python>=2.7.4->snowflake-snowpark-python==0.7.0) (1.25.8)\n"
          ]
        }
      ]
    },
    {
      "cell_type": "code",
      "source": [
        "#!pip install snowflake-connector-python"
      ],
      "metadata": {
        "id": "0s7Tny1yMco4"
      },
      "execution_count": 1,
      "outputs": []
    },
    {
      "cell_type": "code",
      "source": [
        "\n",
        "import sys, site\n",
        "\n",
        "print(\"\\n##### sys.path original #####\")\n",
        "for p in sys.path:\n",
        "    print(f\"'{p}'\")\n",
        "print()\n",
        "\n",
        "site.main()\n",
        "\n",
        "print(\"\\n##### sys.path after site.main() #####\")\n",
        "for p in sys.path:\n",
        "    print(f\"'{p}'\")\n",
        "print()\n"
      ],
      "metadata": {
        "id": "MyuA5gAbOFR7",
        "colab": {
          "base_uri": "https://localhost:8080/"
        },
        "outputId": "a018158a-0c0d-42f4-bc99-8c43fdf05fde"
      },
      "execution_count": 2,
      "outputs": [
        {
          "output_type": "stream",
          "name": "stdout",
          "text": [
            "\n",
            "##### sys.path original #####\n",
            "'/content'\n",
            "'/env/python'\n",
            "'/usr/local/lib/python38.zip'\n",
            "'/usr/local/lib/python3.8'\n",
            "'/usr/local/lib/python3.8/lib-dynload'\n",
            "''\n",
            "'/usr/local/lib/python3.8/site-packages'\n",
            "'/usr/local/lib/python3.8/site-packages/portpicker-1.3.1-py3.8.egg'\n",
            "\n",
            "\n",
            "##### sys.path after site.main() #####\n",
            "'/content'\n",
            "'/env/python'\n",
            "'/usr/local/lib/python38.zip'\n",
            "'/usr/local/lib/python3.8'\n",
            "'/usr/local/lib/python3.8/lib-dynload'\n",
            "'/usr/local/lib/python3.8/site-packages'\n",
            "'/usr/local/lib/python3.8/site-packages/portpicker-1.3.1-py3.8.egg'\n",
            "\n"
          ]
        }
      ]
    },
    {
      "cell_type": "code",
      "source": [
        "!python --version"
      ],
      "metadata": {
        "colab": {
          "base_uri": "https://localhost:8080/"
        },
        "id": "TLbM76DAOP6_",
        "outputId": "e5c902cf-8277-4416-b409-f6725fcbe1c1"
      },
      "execution_count": 3,
      "outputs": [
        {
          "output_type": "stream",
          "name": "stdout",
          "text": [
            "Python 3.8.1\n"
          ]
        }
      ]
    },
    {
      "cell_type": "code",
      "source": [
        "!jupyter kernelspec list"
      ],
      "metadata": {
        "colab": {
          "base_uri": "https://localhost:8080/"
        },
        "id": "q0AZvUM0RieK",
        "outputId": "4cf90f91-4616-4242-e32e-704d85459242"
      },
      "execution_count": 4,
      "outputs": [
        {
          "output_type": "stream",
          "name": "stdout",
          "text": [
            "Available kernels:\n",
            "  py38       /root/.local/share/jupyter/kernels/py38\n",
            "  ir         /usr/local/share/jupyter/kernels/ir\n",
            "  python3    /usr/local/share/jupyter/kernels/python3\n"
          ]
        }
      ]
    },
    {
      "cell_type": "code",
      "source": [
        "sys.version"
      ],
      "metadata": {
        "colab": {
          "base_uri": "https://localhost:8080/"
        },
        "id": "AXdWpfwaOysr",
        "outputId": "664844e9-c955-4139-e3b3-fc3fe9f5d115"
      },
      "execution_count": 5,
      "outputs": [
        {
          "output_type": "execute_result",
          "data": {
            "text/plain": [
              "'3.8.1 (default, Jan  8 2020, 22:29:32) \\n[GCC 7.3.0]'"
            ]
          },
          "metadata": {},
          "execution_count": 5
        }
      ]
    },
    {
      "cell_type": "code",
      "source": [
        "import os\n",
        "import pandas as pd\n",
        "import numpy as np\n",
        "\n",
        "#import snowflake\n",
        "\n",
        "from snowflake.snowpark import Session\n",
        "from snowflake.snowpark.functions import col"
      ],
      "metadata": {
        "id": "UXu_IdUiLrxn"
      },
      "execution_count": 6,
      "outputs": []
    },
    {
      "cell_type": "code",
      "source": [
        "connection_parameters = {\n",
        " \"account\": \"nope.us-east-1\",\n",
        " \"user\": \"nope\",\n",
        " \"password\": \"nope\",\n",
        " \"role\": \"SYSADMIN\",\n",
        " \"warehouse\": \"ANALYTICS_WH\",\n",
        " \"database\": \"HURRICANE_ANALYSIS\",\n",
        " \"schema\": \"PUBLIC\"\n",
        "}"
      ],
      "metadata": {
        "id": "78pLX7PDTUzF"
      },
      "execution_count": 7,
      "outputs": []
    },
    {
      "cell_type": "code",
      "source": [
        "test_session = Session.builder.configs(connection_parameters).create()\n"
      ],
      "metadata": {
        "id": "urm5WQ3yT-a-"
      },
      "execution_count": 8,
      "outputs": []
    },
    {
      "cell_type": "code",
      "source": [
        "df_disaster_decl_table = test_session.table(\"DISASTER_DECLARATIONS_PREPROC\")\n",
        "df_disaster_decl_table.show()"
      ],
      "metadata": {
        "id": "FXahpnYzXeai",
        "colab": {
          "base_uri": "https://localhost:8080/"
        },
        "outputId": "225d9063-0fc2-4e69-d097-9721235b38bf"
      },
      "execution_count": 9,
      "outputs": [
        {
          "output_type": "stream",
          "name": "stdout",
          "text": [
            "----------------------------------------------------------------------------------------------------------------------------------------------------------------------------------------------------------------------------------------------------------------------------------------\n",
            "|\"FEMADECLARATIONSTRING\"  |\"DISASTERNUMBER\"  |\"STATE\"  |\"DECLARATIONTYPE\"  |\"DECLARATIONDATE\"         |\"FYDECLARED\"  |\"INCIDENTTYPE\"  |\"DECLARATIONTITLE\"        |\"INCIDENTBEGINDATE\"  |\"INCIDENTENDDATE\"  |\"DISASTERCLOSEOUTDATE\"  |\"DESIGNATEDAREA\"  |\"FIPS_CODE\"  |\"DISASTER_DATE\"  |\n",
            "----------------------------------------------------------------------------------------------------------------------------------------------------------------------------------------------------------------------------------------------------------------------------------------\n",
            "|DR-7-MA                  |7                 |MA       |DR                 |1953-06-11T00:00:00.000Z  |1953          |Tornado         |TORNADO                   |1953-06-11           |1953-06-11         |1956-06-01              |Statewide         |25000        |1953-06-11       |\n",
            "|DR-6-MI                  |6                 |MI       |DR                 |1953-06-09T00:00:00.000Z  |1953          |Tornado         |TORNADO                   |1953-06-09           |1953-06-09         |1956-03-30              |Statewide         |26000        |1953-06-09       |\n",
            "|DR-2-TX                  |2                 |TX       |DR                 |1953-05-15T00:00:00.000Z  |1953          |Tornado         |TORNADO & HEAVY RAINFALL  |1953-05-15           |1953-05-15         |1958-01-01              |Statewide         |48000        |1953-05-15       |\n",
            "|DR-4-MI                  |4                 |MI       |DR                 |1953-06-02T00:00:00.000Z  |1953          |Tornado         |TORNADO                   |1953-06-02           |1953-06-02         |1956-02-01              |Statewide         |26000        |1953-06-02       |\n",
            "|DR-1-GA                  |1                 |GA       |DR                 |1953-05-02T00:00:00.000Z  |1953          |Tornado         |TORNADO                   |1953-05-02           |1953-05-02         |1954-06-01              |Statewide         |13000        |1953-05-02       |\n",
            "|DR-3-LA                  |3                 |LA       |DR                 |1953-05-29T00:00:00.000Z  |1953          |Flood           |FLOOD                     |1953-05-29           |1953-05-29         |1960-02-01              |Statewide         |22000        |1953-05-29       |\n",
            "|DR-9-TX                  |9                 |TX       |DR                 |1953-06-19T00:00:00.000Z  |1953          |Flood           |FLOOD                     |1953-06-19           |1953-06-19         |1958-01-01              |Statewide         |48000        |1953-06-19       |\n",
            "|DR-5-MT                  |5                 |MT       |DR                 |1953-06-06T00:00:00.000Z  |1953          |Flood           |FLOODS                    |1953-06-06           |1953-06-06         |1955-12-01              |Statewide         |30000        |1953-06-06       |\n",
            "|DR-11-NH                 |11                |NH       |DR                 |1953-07-02T00:00:00.000Z  |1953          |Fire            |FOREST FIRE               |1953-07-02           |1953-07-02         |1956-02-01              |Statewide         |33000        |1953-07-02       |\n",
            "|DR-20-SD                 |20                |SD       |DR                 |1954-07-31T00:00:00.000Z  |1954          |Flood           |FLOOD                     |1954-07-31           |1954-07-31         |1956-02-01              |Statewide         |46000        |1954-07-31       |\n",
            "----------------------------------------------------------------------------------------------------------------------------------------------------------------------------------------------------------------------------------------------------------------------------------------\n",
            "\n"
          ]
        }
      ]
    },
    {
      "cell_type": "code",
      "source": [
        "df_housing_assistance_table = test_session.table(\"FEMA_HOUSING_ASSISTANCE\")\n",
        "df_housing_assistance_table.show()"
      ],
      "metadata": {
        "id": "hv9sEm2YXlLY",
        "colab": {
          "base_uri": "https://localhost:8080/"
        },
        "outputId": "520c56da-01c9-44bd-993d-dad374401455"
      },
      "execution_count": 10,
      "outputs": [
        {
          "output_type": "stream",
          "name": "stdout",
          "text": [
            "-------------------------------------------------------------------------------------------------------------------------------------------------------------------------------------------------------------------------------------------------------------------------------------------------------------------------------------------------------------------------------------------------------------------------------------------------------------------------------------------------------------------------------------------------------------------------------------------------------------------------------------------\n",
            "|\"DISASTERNUMBER\"  |\"STATE\"  |\"COUNTY\"         |\"CITY\"      |\"ZIPCODE\"  |\"VALIDREGISTRATIONS\"  |\"AVERAGEFEMAINSPECTEDDAMAGE\"  |\"TOTALINSPECTED\"  |\"TOTALDAMAGE\"       |\"NOFEMAINSPECTEDDAMAGE\"  |\"FEMAINSPECTEDDAMAGEBETWEEN1AND10000\"  |\"FEMAINSPECTEDDAMAGEBETWEEN10001AND20000\"  |\"FEMAINSPECTEDDAMAGEBETWEEN20001AND30000\"  |\"FEMAINSPECTEDDAMAGEGREATERTHAN30000\"  |\"APPROVEDFORFEMAASSISTANCE\"  |\"TOTALAPPROVEDIHPAMOUNT\"  |\"REPAIRREPLACEAMOUNT\"  |\"RENTALAMOUNT\"  |\"OTHERNEEDSAMOUNT\"  |\"APPROVEDBETWEEN1AND10000\"  |\"APPROVEDBETWEEN10001AND25000\"  |\"APPROVEDBETWEEN25001ANDMAX\"  |\"TOTALMAXGRANTS\"  |\"ID\"                      |\n",
            "-------------------------------------------------------------------------------------------------------------------------------------------------------------------------------------------------------------------------------------------------------------------------------------------------------------------------------------------------------------------------------------------------------------------------------------------------------------------------------------------------------------------------------------------------------------------------------------------------------------------------------------------\n",
            "|1439              |TX       |Walker (County)  |MIDWAY      |75852      |6                     |20100.420000000002            |6                 |120602.52           |0                        |0                                      |2                                          |4                                          |0                                      |6                            |64665.5                   |30000.0                |6516.0          |28149.5             |0                           |3                               |3                             |0                 |6291d9e98311f76a9aedaf0e  |\n",
            "|1439              |TX       |Walker (County)  |TRINITY     |75862      |5                     |8760.72                       |4                 |43803.6             |0                        |1                                      |3                                          |0                                          |0                                      |4                            |32745.399999999998        |13195.48               |4104.0          |15445.919999999998  |0                           |3                               |1                             |0                 |6291d9e98311f76a9aedaf0f  |\n",
            "|1439              |TX       |Jasper (County)  |BROOKELAND  |75931      |1                     |1703.64                       |1                 |1703.64             |0                        |1                                      |0                                          |0                                          |0                                      |1                            |1703.64                   |1703.64                |0.0             |0.0                 |1                           |0                               |0                             |0                 |6291d9e98311f76a9aedaf10  |\n",
            "|1439              |TX       |Jasper (County)  |JASPER      |75951      |220                   |765.0031818181818             |198               |168300.7            |21                       |177                                    |0                                          |0                                          |0                                      |149                          |177211.81                 |118105.68              |14500.0         |44606.13            |138                         |11                              |0                             |0                 |6291d9e98311f76a9aedaf11  |\n",
            "|1439              |TX       |Jasper (County)  |KIRBYVILLE  |75956      |24                    |2187.8575                     |23                |52508.58            |2                        |20                                     |1                                          |0                                          |0                                      |19                           |51295.159999999996        |30765.8                |4092.0          |16437.36            |16                          |1                               |2                             |0                 |6291d9e98311f76a9aedaf12  |\n",
            "|1439              |TX       |Jasper (County)  |WIERGATE    |75977      |1                     |985.8499999999999             |1                 |985.8499999999999   |0                        |1                                      |0                                          |0                                          |0                                      |0                            |0.0                       |0.0                    |0.0             |0.0                 |0                           |0                               |0                             |0                 |6291d9e98311f76a9aedaf13  |\n",
            "|1439              |TX       |Harris (County)  |HOUSTON     |77003      |1                     |0.0                           |0                 |0.0                 |0                        |0                                      |0                                          |0                                          |0                                      |0                            |0.0                       |0.0                    |0.0             |0.0                 |0                           |0                               |0                             |0                 |6291d9e98311f76a9aedaf14  |\n",
            "|1439              |TX       |Harris (County)  |HOUSTON     |77004      |2                     |1213.4250000000002            |2                 |2426.8500000000004  |0                        |2                                      |0                                          |0                                          |0                                      |1                            |545.3                     |545.3                  |0.0             |0.0                 |1                           |0                               |0                             |0                 |6291d9e98311f76a9aedaf15  |\n",
            "|1439              |TX       |Harris (County)  |HOUSTON     |77005      |1                     |5127.72                       |1                 |5127.72             |0                        |1                                      |0                                          |0                                          |0                                      |1                            |6406.47                   |2361.05                |1494.0          |2551.42             |0                           |1                               |0                             |0                 |6291d9e98311f76a9aedaf16  |\n",
            "|1439              |TX       |Harris (County)  |HOUSTON     |77006      |1                     |16846.3                       |1                 |16846.3             |0                        |0                                      |1                                          |0                                          |0                                      |1                            |2845.47                   |761.47                 |2084.0          |0.0                 |1                           |0                               |0                             |0                 |6291d9e98311f76a9aedaf17  |\n",
            "-------------------------------------------------------------------------------------------------------------------------------------------------------------------------------------------------------------------------------------------------------------------------------------------------------------------------------------------------------------------------------------------------------------------------------------------------------------------------------------------------------------------------------------------------------------------------------------------------------------------------------------------\n",
            "\n"
          ]
        }
      ]
    },
    {
      "cell_type": "code",
      "source": [
        "df_sql = test_session.sql(\"SELECT TOP 5 * from DISASTER_DECLARATIONS_PREPROC\")\n",
        "df_sql.show()"
      ],
      "metadata": {
        "id": "P2EMpxuEUk6Z",
        "colab": {
          "base_uri": "https://localhost:8080/"
        },
        "outputId": "b6d6155d-abae-4864-835f-17e3ad12cc19"
      },
      "execution_count": 11,
      "outputs": [
        {
          "output_type": "stream",
          "name": "stdout",
          "text": [
            "----------------------------------------------------------------------------------------------------------------------------------------------------------------------------------------------------------------------------------------------------------------------------------------\n",
            "|\"FEMADECLARATIONSTRING\"  |\"DISASTERNUMBER\"  |\"STATE\"  |\"DECLARATIONTYPE\"  |\"DECLARATIONDATE\"         |\"FYDECLARED\"  |\"INCIDENTTYPE\"  |\"DECLARATIONTITLE\"        |\"INCIDENTBEGINDATE\"  |\"INCIDENTENDDATE\"  |\"DISASTERCLOSEOUTDATE\"  |\"DESIGNATEDAREA\"  |\"FIPS_CODE\"  |\"DISASTER_DATE\"  |\n",
            "----------------------------------------------------------------------------------------------------------------------------------------------------------------------------------------------------------------------------------------------------------------------------------------\n",
            "|DR-7-MA                  |7                 |MA       |DR                 |1953-06-11T00:00:00.000Z  |1953          |Tornado         |TORNADO                   |1953-06-11           |1953-06-11         |1956-06-01              |Statewide         |25000        |1953-06-11       |\n",
            "|DR-6-MI                  |6                 |MI       |DR                 |1953-06-09T00:00:00.000Z  |1953          |Tornado         |TORNADO                   |1953-06-09           |1953-06-09         |1956-03-30              |Statewide         |26000        |1953-06-09       |\n",
            "|DR-2-TX                  |2                 |TX       |DR                 |1953-05-15T00:00:00.000Z  |1953          |Tornado         |TORNADO & HEAVY RAINFALL  |1953-05-15           |1953-05-15         |1958-01-01              |Statewide         |48000        |1953-05-15       |\n",
            "|DR-4-MI                  |4                 |MI       |DR                 |1953-06-02T00:00:00.000Z  |1953          |Tornado         |TORNADO                   |1953-06-02           |1953-06-02         |1956-02-01              |Statewide         |26000        |1953-06-02       |\n",
            "|DR-1-GA                  |1                 |GA       |DR                 |1953-05-02T00:00:00.000Z  |1953          |Tornado         |TORNADO                   |1953-05-02           |1953-05-02         |1954-06-01              |Statewide         |13000        |1953-05-02       |\n",
            "----------------------------------------------------------------------------------------------------------------------------------------------------------------------------------------------------------------------------------------------------------------------------------------\n",
            "\n"
          ]
        }
      ]
    },
    {
      "cell_type": "code",
      "source": [
        "df_joined_data = df_housing_assistance_table.join(df_disaster_decl_table, (df_housing_assistance_table.col(\"disasterNumber\") == df_disaster_decl_table.col(\"disasterNumber\")) & (df_housing_assistance_table.col(\"state\") == df_disaster_decl_table.col(\"state\")) & (df_housing_assistance_table.col(\"county\") == df_disaster_decl_table.col(\"designatedArea\")) )\n",
        "#  \n",
        "df_joined_data.show()"
      ],
      "metadata": {
        "id": "PSRCYe3-UrIk",
        "colab": {
          "base_uri": "https://localhost:8080/"
        },
        "outputId": "bb13a4b5-e6f8-4a83-af04-b0b5f156b375"
      },
      "execution_count": 12,
      "outputs": [
        {
          "output_type": "stream",
          "name": "stdout",
          "text": [
            "----------------------------------------------------------------------------------------------------------------------------------------------------------------------------------------------------------------------------------------------------------------------------------------------------------------------------------------------------------------------------------------------------------------------------------------------------------------------------------------------------------------------------------------------------------------------------------------------------------------------------------------------------------------------------------------------------------------------------------------------------------------------------------------------------------------------------------------------------------------------------------------------------------------------------------------------------------------------------\n",
            "|\"l_kreu_DISASTERNUMBER\"  |\"l_kreu_STATE\"  |\"COUNTY\"         |\"CITY\"      |\"ZIPCODE\"  |\"VALIDREGISTRATIONS\"  |\"AVERAGEFEMAINSPECTEDDAMAGE\"  |\"TOTALINSPECTED\"  |\"TOTALDAMAGE\"       |\"NOFEMAINSPECTEDDAMAGE\"  |\"FEMAINSPECTEDDAMAGEBETWEEN1AND10000\"  |\"FEMAINSPECTEDDAMAGEBETWEEN10001AND20000\"  |\"FEMAINSPECTEDDAMAGEBETWEEN20001AND30000\"  |\"FEMAINSPECTEDDAMAGEGREATERTHAN30000\"  |\"APPROVEDFORFEMAASSISTANCE\"  |\"TOTALAPPROVEDIHPAMOUNT\"  |\"REPAIRREPLACEAMOUNT\"  |\"RENTALAMOUNT\"  |\"OTHERNEEDSAMOUNT\"  |\"APPROVEDBETWEEN1AND10000\"  |\"APPROVEDBETWEEN10001AND25000\"  |\"APPROVEDBETWEEN25001ANDMAX\"  |\"TOTALMAXGRANTS\"  |\"ID\"                      |\"FEMADECLARATIONSTRING\"  |\"r_womb_DISASTERNUMBER\"  |\"r_womb_STATE\"  |\"DECLARATIONTYPE\"  |\"DECLARATIONDATE\"         |\"FYDECLARED\"  |\"INCIDENTTYPE\"   |\"DECLARATIONTITLE\"                     |\"INCIDENTBEGINDATE\"  |\"INCIDENTENDDATE\"  |\"DISASTERCLOSEOUTDATE\"  |\"DESIGNATEDAREA\"  |\"FIPS_CODE\"  |\"DISASTER_DATE\"  |\n",
            "----------------------------------------------------------------------------------------------------------------------------------------------------------------------------------------------------------------------------------------------------------------------------------------------------------------------------------------------------------------------------------------------------------------------------------------------------------------------------------------------------------------------------------------------------------------------------------------------------------------------------------------------------------------------------------------------------------------------------------------------------------------------------------------------------------------------------------------------------------------------------------------------------------------------------------------------------------------------------\n",
            "|1439                     |TX              |Walker (County)  |MIDWAY      |75852      |6                     |20100.420000000002            |6                 |120602.52           |0                        |0                                      |2                                          |4                                          |0                                      |6                            |64665.5                   |30000.0                |6516.0          |28149.5             |0                           |3                               |3                             |0                 |6291d9e98311f76a9aedaf0e  |DR-1439-TX               |1439                     |TX              |DR                 |2002-11-05T00:00:00.000Z  |2003          |Severe Storm(s)  |SEVERE STORMS, TORNADOES AND FLOODING  |2002-10-24           |2002-11-15         |2013-03-26              |Walker (County)   |48471        |2002-11-05       |\n",
            "|1439                     |TX              |Walker (County)  |TRINITY     |75862      |5                     |8760.72                       |4                 |43803.6             |0                        |1                                      |3                                          |0                                          |0                                      |4                            |32745.399999999998        |13195.48               |4104.0          |15445.919999999998  |0                           |3                               |1                             |0                 |6291d9e98311f76a9aedaf0f  |DR-1439-TX               |1439                     |TX              |DR                 |2002-11-05T00:00:00.000Z  |2003          |Severe Storm(s)  |SEVERE STORMS, TORNADOES AND FLOODING  |2002-10-24           |2002-11-15         |2013-03-26              |Walker (County)   |48471        |2002-11-05       |\n",
            "|1439                     |TX              |Jasper (County)  |BROOKELAND  |75931      |1                     |1703.64                       |1                 |1703.64             |0                        |1                                      |0                                          |0                                          |0                                      |1                            |1703.64                   |1703.64                |0.0             |0.0                 |1                           |0                               |0                             |0                 |6291d9e98311f76a9aedaf10  |DR-1439-TX               |1439                     |TX              |DR                 |2002-11-05T00:00:00.000Z  |2003          |Severe Storm(s)  |SEVERE STORMS, TORNADOES AND FLOODING  |2002-10-24           |2002-11-15         |2013-03-26              |Jasper (County)   |48241        |2002-11-05       |\n",
            "|1439                     |TX              |Jasper (County)  |JASPER      |75951      |220                   |765.0031818181818             |198               |168300.7            |21                       |177                                    |0                                          |0                                          |0                                      |149                          |177211.81                 |118105.68              |14500.0         |44606.13            |138                         |11                              |0                             |0                 |6291d9e98311f76a9aedaf11  |DR-1439-TX               |1439                     |TX              |DR                 |2002-11-05T00:00:00.000Z  |2003          |Severe Storm(s)  |SEVERE STORMS, TORNADOES AND FLOODING  |2002-10-24           |2002-11-15         |2013-03-26              |Jasper (County)   |48241        |2002-11-05       |\n",
            "|1439                     |TX              |Jasper (County)  |KIRBYVILLE  |75956      |24                    |2187.8575                     |23                |52508.58            |2                        |20                                     |1                                          |0                                          |0                                      |19                           |51295.159999999996        |30765.8                |4092.0          |16437.36            |16                          |1                               |2                             |0                 |6291d9e98311f76a9aedaf12  |DR-1439-TX               |1439                     |TX              |DR                 |2002-11-05T00:00:00.000Z  |2003          |Severe Storm(s)  |SEVERE STORMS, TORNADOES AND FLOODING  |2002-10-24           |2002-11-15         |2013-03-26              |Jasper (County)   |48241        |2002-11-05       |\n",
            "|1439                     |TX              |Jasper (County)  |WIERGATE    |75977      |1                     |985.8499999999999             |1                 |985.8499999999999   |0                        |1                                      |0                                          |0                                          |0                                      |0                            |0.0                       |0.0                    |0.0             |0.0                 |0                           |0                               |0                             |0                 |6291d9e98311f76a9aedaf13  |DR-1439-TX               |1439                     |TX              |DR                 |2002-11-05T00:00:00.000Z  |2003          |Severe Storm(s)  |SEVERE STORMS, TORNADOES AND FLOODING  |2002-10-24           |2002-11-15         |2013-03-26              |Jasper (County)   |48241        |2002-11-05       |\n",
            "|1439                     |TX              |Harris (County)  |HOUSTON     |77003      |1                     |0.0                           |0                 |0.0                 |0                        |0                                      |0                                          |0                                          |0                                      |0                            |0.0                       |0.0                    |0.0             |0.0                 |0                           |0                               |0                             |0                 |6291d9e98311f76a9aedaf14  |DR-1439-TX               |1439                     |TX              |DR                 |2002-11-05T00:00:00.000Z  |2003          |Severe Storm(s)  |SEVERE STORMS, TORNADOES AND FLOODING  |2002-10-24           |2002-11-15         |2013-03-26              |Harris (County)   |48201        |2002-11-05       |\n",
            "|1439                     |TX              |Harris (County)  |HOUSTON     |77004      |2                     |1213.4250000000002            |2                 |2426.8500000000004  |0                        |2                                      |0                                          |0                                          |0                                      |1                            |545.3                     |545.3                  |0.0             |0.0                 |1                           |0                               |0                             |0                 |6291d9e98311f76a9aedaf15  |DR-1439-TX               |1439                     |TX              |DR                 |2002-11-05T00:00:00.000Z  |2003          |Severe Storm(s)  |SEVERE STORMS, TORNADOES AND FLOODING  |2002-10-24           |2002-11-15         |2013-03-26              |Harris (County)   |48201        |2002-11-05       |\n",
            "|1439                     |TX              |Harris (County)  |HOUSTON     |77005      |1                     |5127.72                       |1                 |5127.72             |0                        |1                                      |0                                          |0                                          |0                                      |1                            |6406.47                   |2361.05                |1494.0          |2551.42             |0                           |1                               |0                             |0                 |6291d9e98311f76a9aedaf16  |DR-1439-TX               |1439                     |TX              |DR                 |2002-11-05T00:00:00.000Z  |2003          |Severe Storm(s)  |SEVERE STORMS, TORNADOES AND FLOODING  |2002-10-24           |2002-11-15         |2013-03-26              |Harris (County)   |48201        |2002-11-05       |\n",
            "|1439                     |TX              |Harris (County)  |HOUSTON     |77006      |1                     |16846.3                       |1                 |16846.3             |0                        |0                                      |1                                          |0                                          |0                                      |1                            |2845.47                   |761.47                 |2084.0          |0.0                 |1                           |0                               |0                             |0                 |6291d9e98311f76a9aedaf17  |DR-1439-TX               |1439                     |TX              |DR                 |2002-11-05T00:00:00.000Z  |2003          |Severe Storm(s)  |SEVERE STORMS, TORNADOES AND FLOODING  |2002-10-24           |2002-11-15         |2013-03-26              |Harris (County)   |48201        |2002-11-05       |\n",
            "----------------------------------------------------------------------------------------------------------------------------------------------------------------------------------------------------------------------------------------------------------------------------------------------------------------------------------------------------------------------------------------------------------------------------------------------------------------------------------------------------------------------------------------------------------------------------------------------------------------------------------------------------------------------------------------------------------------------------------------------------------------------------------------------------------------------------------------------------------------------------------------------------------------------------------------------------------------------------\n",
            "\n"
          ]
        }
      ]
    },
    {
      "cell_type": "code",
      "source": [
        "from snowflake.snowpark.functions import col, lit, sum as sum_, max as max_\n",
        "from snowflake.snowpark.functions import month, year\n",
        "\n",
        "df_tmp = df_joined_data.select((col(\"county\"), col(\"incidentType\"), col(\"totalDamage\"), col(\"fips_code\"), col(\"declarationTitle\"), col(\"DISASTER_DATE\"), month(\"DISASTER_DATE\").as_(\"month\"), year(\"DISASTER_DATE\").as_(\"year\")))\n",
        "#df_joined_data.select((year(\"DISASTER_DATE\")).alias(\"year\"))\n",
        "\n",
        "\n",
        "\n",
        "\n",
        "df_tmp.show()"
      ],
      "metadata": {
        "id": "5cwxP4yQbjn2",
        "colab": {
          "base_uri": "https://localhost:8080/"
        },
        "outputId": "66ab1855-38e8-49e4-d500-9da974f37315"
      },
      "execution_count": 13,
      "outputs": [
        {
          "output_type": "stream",
          "name": "stdout",
          "text": [
            "-----------------------------------------------------------------------------------------------------------------------------------------------------\n",
            "|\"COUNTY\"         |\"INCIDENTTYPE\"   |\"TOTALDAMAGE\"       |\"FIPS_CODE\"  |\"DECLARATIONTITLE\"                     |\"DISASTER_DATE\"  |\"MONTH\"  |\"YEAR\"  |\n",
            "-----------------------------------------------------------------------------------------------------------------------------------------------------\n",
            "|Walker (County)  |Severe Storm(s)  |120602.52           |48471        |SEVERE STORMS, TORNADOES AND FLOODING  |2002-11-05       |11       |2002    |\n",
            "|Walker (County)  |Severe Storm(s)  |43803.6             |48471        |SEVERE STORMS, TORNADOES AND FLOODING  |2002-11-05       |11       |2002    |\n",
            "|Jasper (County)  |Severe Storm(s)  |1703.64             |48241        |SEVERE STORMS, TORNADOES AND FLOODING  |2002-11-05       |11       |2002    |\n",
            "|Jasper (County)  |Severe Storm(s)  |168300.7            |48241        |SEVERE STORMS, TORNADOES AND FLOODING  |2002-11-05       |11       |2002    |\n",
            "|Jasper (County)  |Severe Storm(s)  |52508.58            |48241        |SEVERE STORMS, TORNADOES AND FLOODING  |2002-11-05       |11       |2002    |\n",
            "|Jasper (County)  |Severe Storm(s)  |985.8499999999999   |48241        |SEVERE STORMS, TORNADOES AND FLOODING  |2002-11-05       |11       |2002    |\n",
            "|Harris (County)  |Severe Storm(s)  |0.0                 |48201        |SEVERE STORMS, TORNADOES AND FLOODING  |2002-11-05       |11       |2002    |\n",
            "|Harris (County)  |Severe Storm(s)  |2426.8500000000004  |48201        |SEVERE STORMS, TORNADOES AND FLOODING  |2002-11-05       |11       |2002    |\n",
            "|Harris (County)  |Severe Storm(s)  |5127.72             |48201        |SEVERE STORMS, TORNADOES AND FLOODING  |2002-11-05       |11       |2002    |\n",
            "|Harris (County)  |Severe Storm(s)  |16846.3             |48201        |SEVERE STORMS, TORNADOES AND FLOODING  |2002-11-05       |11       |2002    |\n",
            "-----------------------------------------------------------------------------------------------------------------------------------------------------\n",
            "\n"
          ]
        }
      ]
    },
    {
      "cell_type": "code",
      "source": [
        "\n",
        "df_grouped_sums = df_tmp.group_by(['county', 'fips_code', 'year', 'month', 'declarationTitle', 'incidentType']).agg(sum_(\"totalDamage\"))\n",
        "df_grouped_sums.show()"
      ],
      "metadata": {
        "colab": {
          "base_uri": "https://localhost:8080/"
        },
        "id": "R-fHW2tlz8cm",
        "outputId": "6d6f05ad-b15a-46df-d467-80154cb89dd8"
      },
      "execution_count": 14,
      "outputs": [
        {
          "output_type": "stream",
          "name": "stdout",
          "text": [
            "--------------------------------------------------------------------------------------------------------------------------------------------------\n",
            "|\"COUNTY\"                        |\"FIPS_CODE\"  |\"YEAR\"  |\"MONTH\"  |\"DECLARATIONTITLE\"                     |\"INCIDENTTYPE\"   |\"SUM(TOTALDAMAGE)\"  |\n",
            "--------------------------------------------------------------------------------------------------------------------------------------------------\n",
            "|Walker (County)                 |48471        |2002    |11       |SEVERE STORMS, TORNADOES AND FLOODING  |Severe Storm(s)  |385689.48           |\n",
            "|Montgomery (County)             |48339        |2002    |11       |SEVERE STORMS, TORNADOES AND FLOODING  |Severe Storm(s)  |1308098.97          |\n",
            "|San Jacinto (County)            |48407        |2002    |11       |SEVERE STORMS, TORNADOES AND FLOODING  |Severe Storm(s)  |1292429.47          |\n",
            "|Fort Bend (County)              |48157        |2002    |11       |SEVERE STORMS, TORNADOES AND FLOODING  |Severe Storm(s)  |140371.19           |\n",
            "|Orange (County)                 |48361        |2002    |11       |SEVERE STORMS, TORNADOES AND FLOODING  |Severe Storm(s)  |1857120.87          |\n",
            "|Jim Wells (County)              |48249        |2002    |11       |SEVERE STORMS, TORNADOES AND FLOODING  |Severe Storm(s)  |610651.42           |\n",
            "|Cameron (County)                |48061        |2002    |11       |SEVERE STORMS, TORNADOES AND FLOODING  |Severe Storm(s)  |1218095.06          |\n",
            "|Denali (Borough)                |02068        |2002    |11       |EARTHQUAKE                             |Earthquake       |687351.53           |\n",
            "|Fairbanks North Star (Borough)  |02090        |2002    |11       |EARTHQUAKE                             |Earthquake       |38012.12            |\n",
            "|Montgomery (County)             |47125        |2002    |11       |SEVERE STORMS AND TORNADOS             |Severe Storm(s)  |3122.2000000000003  |\n",
            "--------------------------------------------------------------------------------------------------------------------------------------------------\n",
            "\n"
          ]
        }
      ]
    },
    {
      "cell_type": "code",
      "source": [
        "#.filter(col(\"id\") == 1)\n",
        "df_hurricane_sums = df_grouped_sums.filter(col(\"incidentType\") == \"Hurricane\")\n",
        "df_hurricane_sums.show()"
      ],
      "metadata": {
        "colab": {
          "base_uri": "https://localhost:8080/"
        },
        "id": "WHPMJoRR8xDu",
        "outputId": "a36c1baa-cf20-4a08-87a2-0f3060e29bf1"
      },
      "execution_count": 15,
      "outputs": [
        {
          "output_type": "stream",
          "name": "stdout",
          "text": [
            "----------------------------------------------------------------------------------------------------------------------\n",
            "|\"COUNTY\"               |\"FIPS_CODE\"  |\"YEAR\"  |\"MONTH\"  |\"DECLARATIONTITLE\"   |\"INCIDENTTYPE\"  |\"SUM(TOTALDAMAGE)\"  |\n",
            "----------------------------------------------------------------------------------------------------------------------\n",
            "|Matagorda (County)     |48321        |2003    |7        |HURRICANE CLAUDETTE  |Hurricane       |3005146.42          |\n",
            "|Brazoria (County)      |48039        |2003    |7        |HURRICANE CLAUDETTE  |Hurricane       |1086684.0899999999  |\n",
            "|Galveston (County)     |48167        |2003    |7        |HURRICANE CLAUDETTE  |Hurricane       |739854.5            |\n",
            "|DeWitt (County)        |48123        |2003    |7        |HURRICANE CLAUDETTE  |Hurricane       |46700.92            |\n",
            "|McMullen (County)      |48311        |2003    |7        |HURRICANE CLAUDETTE  |Hurricane       |30906.440000000002  |\n",
            "|San Patricio (County)  |48409        |2003    |7        |HURRICANE CLAUDETTE  |Hurricane       |318012.08           |\n",
            "|Franklin (County)      |37069        |2003    |9        |HURRICANE ISABEL     |Hurricane       |94269.53            |\n",
            "|Granville (County)     |37077        |2003    |9        |HURRICANE ISABEL     |Hurricane       |15517.23            |\n",
            "|Wayne (County)         |37191        |2003    |9        |HURRICANE ISABEL     |Hurricane       |116717.20000000001  |\n",
            "|Nash (County)          |37127        |2003    |9        |HURRICANE ISABEL     |Hurricane       |326029.83999999997  |\n",
            "----------------------------------------------------------------------------------------------------------------------\n",
            "\n"
          ]
        }
      ]
    },
    {
      "cell_type": "code",
      "source": [
        "test_session.close()"
      ],
      "metadata": {
        "id": "K8PX2OCrVFAD"
      },
      "execution_count": 16,
      "outputs": []
    }
  ]
}
