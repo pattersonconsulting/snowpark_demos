{
 "cells": [
  {
   "cell_type": "code",
   "execution_count": 1,
   "id": "f382d742",
   "metadata": {},
   "outputs": [],
   "source": [
    "import os"
   ]
  },
  {
   "cell_type": "code",
   "execution_count": 17,
   "id": "2370240f",
   "metadata": {},
   "outputs": [],
   "source": [
    "from snowflake.snowpark import Session\n",
    "from snowflake.snowpark.functions import col"
   ]
  },
  {
   "cell_type": "code",
   "execution_count": 3,
   "id": "2112d1fa",
   "metadata": {},
   "outputs": [],
   "source": [
    "connection_parameters = {\n",
    " \"account\": \"\",\n",
    " \"user\": \"\",\n",
    " \"password\": \"\",\n",
    " \"role\": \"SYSADMIN\",\n",
    " \"warehouse\": \"ANALYTICS_WH\",\n",
    " \"database\": \"CREDIT_CARD_COMPANY_DB\",\n",
    " \"schema\": \"PUBLIC\"\n",
    "}"
   ]
  },
  {
   "cell_type": "code",
   "execution_count": 10,
   "id": "482a2f1a",
   "metadata": {},
   "outputs": [],
   "source": [
    "test_session = Session.builder.configs(connection_parameters).create()"
   ]
  },
  {
   "cell_type": "code",
   "execution_count": 11,
   "id": "0f387f07",
   "metadata": {},
   "outputs": [
    {
     "name": "stdout",
     "output_type": "stream",
     "text": [
      "[Row(CURRENT_WAREHOUSE()='ANALYTICS_WH', CURRENT_DATABASE()='CREDIT_CARD_COMPANY_DB', CURRENT_SCHEMA()='PUBLIC')]\n"
     ]
    }
   ],
   "source": [
    "print(test_session.sql(\"select current_warehouse(), current_database(), current_schema()\").collect())  "
   ]
  },
  {
   "cell_type": "code",
   "execution_count": 12,
   "id": "6f308b4d",
   "metadata": {},
   "outputs": [
    {
     "name": "stdout",
     "output_type": "stream",
     "text": [
      "[Row(created_on=datetime.datetime(2022, 2, 14, 13, 27, 23, 599000, tzinfo=<DstTzInfo 'America/Los_Angeles' PST-1 day, 16:00:00 STD>), name='CUSTOMERS', database_name='CREDIT_CARD_COMPANY_DB', schema_name='PUBLIC', kind='TABLE', comment='', cluster_by='', rows=4990, bytes=9216, owner='SYSADMIN', retention_time='1', automatic_clustering='OFF', change_tracking='OFF', is_external='N'), Row(created_on=datetime.datetime(2022, 2, 14, 12, 4, 2, 451000, tzinfo=<DstTzInfo 'America/Los_Angeles' PST-1 day, 16:00:00 STD>), name='CUSTOMER_CC_TRANSACTIONS', database_name='CREDIT_CARD_COMPANY_DB', schema_name='PUBLIC', kind='TABLE', comment='', cluster_by='', rows=1754155, bytes=18320384, owner='SYSADMIN', retention_time='1', automatic_clustering='OFF', change_tracking='OFF', is_external='N'), Row(created_on=datetime.datetime(2022, 2, 16, 8, 36, 51, 485000, tzinfo=<DstTzInfo 'America/Los_Angeles' PST-1 day, 16:00:00 STD>), name='CUSTOMER_CC_TRANSACTION_FEATURES', database_name='CREDIT_CARD_COMPANY_DB', schema_name='PUBLIC', kind='TABLE', comment='', cluster_by='', rows=1754155, bytes=73575424, owner='SYSADMIN', retention_time='1', automatic_clustering='OFF', change_tracking='OFF', is_external='N')]\n"
     ]
    }
   ],
   "source": [
    "print(test_session.sql(\"show tables; \").collect())  "
   ]
  },
  {
   "cell_type": "code",
   "execution_count": 13,
   "id": "8976c3d1",
   "metadata": {},
   "outputs": [
    {
     "name": "stdout",
     "output_type": "stream",
     "text": [
      "-----------------\n",
      "|\"CUSTOMER_ID\"  |\n",
      "-----------------\n",
      "|851            |\n",
      "|2462           |\n",
      "|923            |\n",
      "|3142           |\n",
      "|3797           |\n",
      "|3152           |\n",
      "|258            |\n",
      "|2775           |\n",
      "|3473           |\n",
      "|4634           |\n",
      "-----------------\n",
      "\n"
     ]
    }
   ],
   "source": [
    "df_table = test_session.table(\"CUSTOMERS\")\n",
    "df_table.show()"
   ]
  },
  {
   "cell_type": "code",
   "execution_count": 16,
   "id": "0bd46c04",
   "metadata": {},
   "outputs": [
    {
     "name": "stdout",
     "output_type": "stream",
     "text": [
      "-----------------\n",
      "|\"CUSTOMER_ID\"  |\n",
      "-----------------\n",
      "|851            |\n",
      "|2462           |\n",
      "|923            |\n",
      "-----------------\n",
      "\n"
     ]
    }
   ],
   "source": [
    "df_sql = test_session.sql(\"SELECT TOP 3 CUSTOMER_ID from CUSTOMERS\")\n",
    "df_sql.show()"
   ]
  },
  {
   "cell_type": "code",
   "execution_count": 18,
   "id": "20cb94ac",
   "metadata": {
    "scrolled": true
   },
   "outputs": [
    {
     "name": "stdout",
     "output_type": "stream",
     "text": [
      "-----------------\n",
      "|\"CUSTOMER_ID\"  |\n",
      "-----------------\n",
      "|851            |\n",
      "-----------------\n",
      "\n"
     ]
    }
   ],
   "source": [
    "df_filter = df_sql.filter(col(\"CUSTOMER_ID\") == 851)\n",
    "df_filter.show()"
   ]
  },
  {
   "cell_type": "code",
   "execution_count": 19,
   "id": "80c4574a",
   "metadata": {
    "scrolled": true
   },
   "outputs": [
    {
     "name": "stdout",
     "output_type": "stream",
     "text": [
      "-------------------------\n",
      "|\"A\"  |\"B\"  |\"C\"  |\"D\"  |\n",
      "-------------------------\n",
      "|1    |2    |3    |4    |\n",
      "-------------------------\n",
      "\n"
     ]
    }
   ],
   "source": [
    "df2 = test_session.create_dataframe([[1, 2, 3, 4]], schema=[\"a\", \"b\", \"c\", \"d\"])\n",
    "df2.show()"
   ]
  },
  {
   "cell_type": "code",
   "execution_count": 20,
   "id": "776030fd",
   "metadata": {},
   "outputs": [],
   "source": [
    "test_session.close()"
   ]
  }
 ],
 "metadata": {
  "kernelspec": {
   "display_name": "Python 3 (ipykernel)",
   "language": "python",
   "name": "python3"
  },
  "language_info": {
   "codemirror_mode": {
    "name": "ipython",
    "version": 3
   },
   "file_extension": ".py",
   "mimetype": "text/x-python",
   "name": "python",
   "nbconvert_exporter": "python",
   "pygments_lexer": "ipython3",
   "version": "3.9.2"
  }
 },
 "nbformat": 4,
 "nbformat_minor": 5
}
